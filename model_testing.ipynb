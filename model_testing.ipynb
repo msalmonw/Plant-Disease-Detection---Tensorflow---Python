{
  "cells": [
    {
      "cell_type": "code",
      "execution_count": 1,
      "metadata": {
        "id": "43ZExOohQsim"
      },
      "outputs": [],
      "source": [
        "import numpy as np\n",
        "import os\n",
        "import tensorflow as tf\n",
        "from tensorflow.keras.preprocessing.image import img_to_array\n",
        "from tensorflow.keras.models import load_model\n",
        "from tensorflow.keras.preprocessing import image\n"
      ]
    },
    {
      "cell_type": "code",
      "execution_count": 2,
      "metadata": {},
      "outputs": [
        {
          "name": "stdout",
          "output_type": "stream",
          "text": [
            "{0: 'Apple Scab', 1: 'Apple Blackrot', 2: 'Apple Cedar Rust', 3: 'Apple Healthy', 4: 'Blueberry Healthy', 5: 'Cherry Powdery Mildew', 6: 'Cherry Healthy', 7: 'Corn Gray Leaf Spot', 8: 'Corn Common Rust', 9: 'Corn Northern Leaf Blight', 10: 'Corn Healthy', 11: 'Grape BlackRot', 12: 'Grape Esca', 13: 'Grape Leaf Blight', 14: 'Grape Healthy', 15: 'Orange Haunglongbing', 16: 'Peach Bacterial Spot', 17: 'Peach Healthy', 18: 'Pepper Bacterial Spot', 19: 'Pepper Healthy', 20: 'Potato Early Blight', 21: 'Potato Late Blight', 22: 'Potato Healthy', 23: 'Raspberry Healthy', 24: 'Soybean Healthy', 25: 'Squash Powdery Mildew', 26: 'Strawberry Leaf Scorch', 27: 'Strawberry Healthy', 28: 'Tomato Bacterial Spot', 29: 'Tomato Early Blight', 30: 'Tomato Late Blight', 31: 'Tomato Leaf Mold', 32: 'Tomato Septoria Leaf Spot', 33: 'Tomato Two-spotted Spider Mite', 34: 'Tomato Target Spot', 35: 'Tomato Yellow Leaf Curl Virus', 36: 'Tomato Tomato Mosaic Virus', 37: 'Tomato Healthy'}\n"
          ]
        }
      ],
      "source": [
        "cat_list = ['Apple Scab',\n",
        "'Apple Blackrot',\n",
        "'Apple Cedar Rust',\n",
        "'Apple Healthy',\n",
        "'Blueberry Healthy',\n",
        "'Cherry Powdery Mildew',\n",
        "'Cherry Healthy',\n",
        "'Corn Gray Leaf Spot',\n",
        "'Corn Common Rust',\n",
        "'Corn Northern Leaf Blight',\n",
        "'Corn Healthy',\n",
        "'Grape BlackRot',\n",
        "'Grape Esca',\n",
        "'Grape Leaf Blight',\n",
        "'Grape Healthy',\n",
        "'Orange Haunglongbing',\n",
        "'Peach Bacterial Spot',\n",
        "'Peach Healthy',\n",
        "'Pepper Bacterial Spot',\n",
        "'Pepper Healthy',\n",
        "'Potato Early Blight',\n",
        "'Potato Late Blight',\n",
        "'Potato Healthy',\n",
        "'Raspberry Healthy',\n",
        "'Soybean Healthy',\n",
        "'Squash Powdery Mildew',\n",
        "'Strawberry Leaf Scorch',\n",
        "'Strawberry Healthy',\n",
        "'Tomato Bacterial Spot',\n",
        "'Tomato Early Blight',\n",
        "'Tomato Late Blight',\n",
        "'Tomato Leaf Mold',\n",
        "'Tomato Septoria Leaf Spot',\n",
        "'Tomato Two-spotted Spider Mite',\n",
        "'Tomato Target Spot',\n",
        "'Tomato Yellow Leaf Curl Virus',\n",
        "'Tomato Tomato Mosaic Virus',\n",
        "'Tomato Healthy']\n",
        "\n",
        "cat_num = []\n",
        "for i in range(0, 38):\n",
        "    cat_num.append(i)\n",
        "\n",
        "cat_dict = {}\n",
        "cat_dict = dict(zip(cat_num, cat_list))\n",
        "print(cat_dict)"
      ]
    },
    {
      "cell_type": "code",
      "execution_count": 9,
      "metadata": {
        "colab": {
          "base_uri": "https://localhost:8080/"
        },
        "id": "ZQvhfWbxWmJb",
        "outputId": "6b895d5f-8af4-471b-f332-4f448317061c"
      },
      "outputs": [],
      "source": [
        "def test(imgpath):\n",
        "    # Load the TFLite model and allocate tensors.\n",
        "    interpreter = tf.lite.Interpreter(model_path=\"mobilenetv2.tflite\")\n",
        "    interpreter.allocate_tensors()\n",
        " \n",
        "    # Get input and output tensors.\n",
        "    input_details = interpreter.get_input_details()\n",
        "    output_details = interpreter.get_output_details()\n",
        "\n",
        "    # Test the model on random input data.\n",
        "    input_shape = input_details[0]['shape']\n",
        "    img = image.load_img(imgpath, target_size=(224, 224))\n",
        "    input_data = np.array(img, dtype=np.float32)\n",
        "    input_data = np.expand_dims(input_data, axis=0)\n",
        "    input_data = input_data/255\n",
        "    interpreter.set_tensor(input_details[0]['index'], input_data)\n",
        "\n",
        "    interpreter.invoke()\n",
        "\n",
        "    # The function `get_tensor()` returns a copy of the tensor data.\n",
        "    # Use `tensor()` in order to get a pointer to the tensor.\n",
        "    output_data = interpreter.get_tensor(output_details[0]['index'])\n",
        "    max_val_index = np.argmax(output_data)\n",
        "    print('Prediction: ', cat_dict[max_val_index])\n",
        "    print('Confidence: ', np.amax(output_data))"
      ]
    },
    {
      "cell_type": "code",
      "execution_count": 10,
      "metadata": {
        "id": "eZp5WimuXYF_"
      },
      "outputs": [
        {
          "name": "stdout",
          "output_type": "stream",
          "text": [
            "Image:  AppleCedarRust1.JPG\n",
            "Prediction:  Apple Cedar Rust\n",
            "Confidence:  0.99409676\n",
            "Image:  AppleCedarRust2.JPG\n",
            "Prediction:  Apple Cedar Rust\n",
            "Confidence:  0.99994314\n",
            "Image:  AppleCedarRust3.JPG\n",
            "Prediction:  Apple Cedar Rust\n",
            "Confidence:  0.95163214\n",
            "Image:  AppleCedarRust4.JPG\n",
            "Prediction:  Apple Cedar Rust\n",
            "Confidence:  0.99992335\n",
            "Image:  AppleScab1.JPG\n",
            "Prediction:  Apple Scab\n",
            "Confidence:  0.6849293\n",
            "Image:  AppleScab2.JPG\n",
            "Prediction:  Apple Scab\n",
            "Confidence:  0.9999285\n",
            "Image:  AppleScab3.JPG\n",
            "Prediction:  Apple Scab\n",
            "Confidence:  0.98360056\n",
            "Image:  CornCommonRust1.JPG\n",
            "Prediction:  Corn Common Rust\n",
            "Confidence:  1.0\n",
            "Image:  CornCommonRust2.JPG\n",
            "Prediction:  Corn Common Rust\n",
            "Confidence:  0.9999995\n",
            "Image:  CornCommonRust3.JPG\n",
            "Prediction:  Corn Common Rust\n",
            "Confidence:  1.0\n",
            "Image:  PotatoEarlyBlight1.JPG\n",
            "Prediction:  Potato Early Blight\n",
            "Confidence:  0.99127793\n",
            "Image:  PotatoEarlyBlight2.JPG\n",
            "Prediction:  Potato Early Blight\n",
            "Confidence:  0.9999591\n",
            "Image:  PotatoEarlyBlight3.JPG\n",
            "Prediction:  Potato Early Blight\n",
            "Confidence:  0.9994622\n",
            "Image:  PotatoEarlyBlight4.JPG\n",
            "Prediction:  Potato Early Blight\n",
            "Confidence:  0.99164563\n",
            "Image:  PotatoEarlyBlight5.JPG\n",
            "Prediction:  Potato Early Blight\n",
            "Confidence:  0.9983342\n",
            "Image:  PotatoHealthy1.JPG\n",
            "Prediction:  Potato Healthy\n",
            "Confidence:  0.93803155\n",
            "Image:  PotatoHealthy2.JPG\n",
            "Prediction:  Potato Healthy\n",
            "Confidence:  0.9231618\n",
            "Image:  TomatoEarlyBlight1.JPG\n",
            "Prediction:  Tomato Early Blight\n",
            "Confidence:  0.7062182\n",
            "Image:  TomatoEarlyBlight2.JPG\n",
            "Prediction:  Tomato Late Blight\n",
            "Confidence:  0.815989\n",
            "Image:  TomatoEarlyBlight3.JPG\n",
            "Prediction:  Tomato Early Blight\n",
            "Confidence:  0.61680263\n",
            "Image:  TomatoEarlyBlight4.JPG\n",
            "Prediction:  Tomato Early Blight\n",
            "Confidence:  0.5563615\n",
            "Image:  TomatoEarlyBlight5.JPG\n",
            "Prediction:  Tomato Early Blight\n",
            "Confidence:  0.79065293\n",
            "Image:  TomatoEarlyBlight6.JPG\n",
            "Prediction:  Tomato Early Blight\n",
            "Confidence:  0.6315883\n",
            "Image:  TomatoHealthy1.JPG\n",
            "Prediction:  Tomato Healthy\n",
            "Confidence:  0.94757193\n",
            "Image:  TomatoHealthy2.JPG\n",
            "Prediction:  Tomato Healthy\n",
            "Confidence:  0.9946301\n",
            "Image:  TomatoHealthy3.JPG\n",
            "Prediction:  Tomato Target Spot\n",
            "Confidence:  0.5823499\n",
            "Image:  TomatoHealthy4.JPG\n",
            "Prediction:  Tomato Target Spot\n",
            "Confidence:  0.9089721\n",
            "Image:  TomatoYellowCurlVirus1.JPG\n",
            "Prediction:  Tomato Yellow Leaf Curl Virus\n",
            "Confidence:  0.989661\n",
            "Image:  TomatoYellowCurlVirus2.JPG\n",
            "Prediction:  Tomato Yellow Leaf Curl Virus\n",
            "Confidence:  1.0\n",
            "Image:  TomatoYellowCurlVirus3.JPG\n",
            "Prediction:  Tomato Yellow Leaf Curl Virus\n",
            "Confidence:  0.9948042\n",
            "Image:  TomatoYellowCurlVirus4.JPG\n",
            "Prediction:  Tomato Yellow Leaf Curl Virus\n",
            "Confidence:  0.99997973\n",
            "Image:  TomatoYellowCurlVirus5.JPG\n",
            "Prediction:  Tomato Yellow Leaf Curl Virus\n",
            "Confidence:  0.999941\n",
            "Image:  TomatoYellowCurlVirus6.JPG\n",
            "Prediction:  Tomato Yellow Leaf Curl Virus\n",
            "Confidence:  1.0\n"
          ]
        }
      ],
      "source": [
        "path = './testimages/'\n",
        "for img in os.listdir(path):\n",
        "    print('Image: ', img)\n",
        "    full_path = os.path.join(path, img)\n",
        "    test(full_path)"
      ]
    }
  ],
  "metadata": {
    "colab": {
      "collapsed_sections": [],
      "name": "model_testing_resnet.ipynb",
      "provenance": []
    },
    "kernelspec": {
      "display_name": "Python 3.9.7 ('tensorflow_gpuenv')",
      "language": "python",
      "name": "python3"
    },
    "language_info": {
      "codemirror_mode": {
        "name": "ipython",
        "version": 3
      },
      "file_extension": ".py",
      "mimetype": "text/x-python",
      "name": "python",
      "nbconvert_exporter": "python",
      "pygments_lexer": "ipython3",
      "version": "3.9.7"
    },
    "vscode": {
      "interpreter": {
        "hash": "116c8d55bc5de219fcb5c910a7d9034c56e554f76f4c814b205f556750186e1f"
      }
    }
  },
  "nbformat": 4,
  "nbformat_minor": 0
}
